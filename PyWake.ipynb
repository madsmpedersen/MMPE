{
  "nbformat": 4,
  "nbformat_minor": 0,
  "metadata": {
    "colab": {
      "name": "PyWake.ipynb",
      "version": "0.3.2",
      "provenance": [],
      "include_colab_link": true
    },
    "kernelspec": {
      "name": "python3",
      "display_name": "Python 3"
    }
  },
  "cells": [
    {
      "cell_type": "markdown",
      "metadata": {
        "id": "view-in-github",
        "colab_type": "text"
      },
      "source": [
        "<a href=\"https://colab.research.google.com/github/madsmpedersen/mmpe/blob/master/PyWake.ipynb\" target=\"_parent\"><img src=\"https://colab.research.google.com/assets/colab-badge.svg\" alt=\"Open In Colab\"/></a>"
      ]
    },
    {
      "metadata": {
        "id": "a9dxcMqcgrid",
        "colab_type": "code",
        "outputId": "bebe0833-47e4-4326-a5a6-85f1444859ee",
        "colab": {
          "base_uri": "https://localhost:8080/",
          "height": 136
        }
      },
      "cell_type": "code",
      "source": [
        "!git clone https://gitlab.windenergy.dtu.dk/TOPFARM/PyWake.git"
      ],
      "execution_count": 1,
      "outputs": [
        {
          "output_type": "stream",
          "text": [
            "Cloning into 'PyWake'...\n",
            "remote: Enumerating objects: 382, done.\u001b[K\n",
            "remote: Counting objects: 100% (382/382), done.\u001b[K\n",
            "remote: Compressing objects: 100% (239/239), done.\u001b[K\n",
            "remote: Total 382 (delta 182), reused 293 (delta 131)\u001b[K\n",
            "Receiving objects: 100% (382/382), 4.34 MiB | 3.24 MiB/s, done.\n",
            "Resolving deltas: 100% (182/182), done.\n"
          ],
          "name": "stdout"
        }
      ]
    },
    {
      "metadata": {
        "id": "d4gdib7VwTNm",
        "colab_type": "text"
      },
      "cell_type": "markdown",
      "source": [
        "# PyWake"
      ]
    },
    {
      "metadata": {
        "id": "Khn8OEv3wx7O",
        "colab_type": "text"
      },
      "cell_type": "markdown",
      "source": [
        "- At Gitlab: https://gitlab.windenergy.dtu.dk/TOPFARM/PyWake\n",
        "- AEP calculator\n",
        "  - Site and wind resource model\n",
        "  - Wind turbine model\n",
        "  - Wake models\n"
      ]
    },
    {
      "metadata": {
        "id": "mBe1Dls2qV0G",
        "colab_type": "code",
        "outputId": "2a0e864e-9b55-44c8-c52e-0d4fc4f97c95",
        "colab": {
          "base_uri": "https://localhost:8080/",
          "height": 867
        }
      },
      "cell_type": "code",
      "source": [
        "%cd /content/PyWake\n",
        "!pip install -e ."
      ],
      "execution_count": 0,
      "outputs": [
        {
          "output_type": "stream",
          "text": [
            "/content/PyWake\n",
            "Obtaining file:///content/PyWake\n",
            "Requirement already satisfied: matplotlib in /usr/local/lib/python3.6/dist-packages (from py-wake==1.0) (2.1.2)\n",
            "Requirement already satisfied: numpy in /usr/local/lib/python3.6/dist-packages (from py-wake==1.0) (1.14.6)\n",
            "Requirement already satisfied: pytest in /usr/local/lib/python3.6/dist-packages (from py-wake==1.0) (3.10.1)\n",
            "Collecting pytest-cov (from py-wake==1.0)\n",
            "  Downloading https://files.pythonhosted.org/packages/30/0a/1b009b525526cd3cd9f52f52391b426c5a3597447be811a10bcb1f6b05eb/pytest_cov-2.6.0-py2.py3-none-any.whl\n",
            "Requirement already satisfied: pyyaml in /usr/local/lib/python3.6/dist-packages (from py-wake==1.0) (3.13)\n",
            "Requirement already satisfied: scipy in /usr/local/lib/python3.6/dist-packages (from py-wake==1.0) (1.1.0)\n",
            "Requirement already satisfied: sphinx in /usr/local/lib/python3.6/dist-packages (from py-wake==1.0) (1.8.2)\n",
            "Collecting sphinx_rtd_theme (from py-wake==1.0)\n",
            "\u001b[?25l  Downloading https://files.pythonhosted.org/packages/ef/0c/e4a462190506bc4bff6ca8cf93da07b2d13e540466d2e8a760352d0c69b0/sphinx_rtd_theme-0.4.2-py2.py3-none-any.whl (6.4MB)\n",
            "\u001b[K    100% |████████████████████████████████| 6.4MB 4.6MB/s \n",
            "\u001b[?25hRequirement already satisfied: python-dateutil>=2.1 in /usr/local/lib/python3.6/dist-packages (from matplotlib->py-wake==1.0) (2.5.3)\n",
            "Requirement already satisfied: pyparsing!=2.0.4,!=2.1.2,!=2.1.6,>=2.0.1 in /usr/local/lib/python3.6/dist-packages (from matplotlib->py-wake==1.0) (2.3.0)\n",
            "Requirement already satisfied: six>=1.10 in /usr/local/lib/python3.6/dist-packages (from matplotlib->py-wake==1.0) (1.11.0)\n",
            "Requirement already satisfied: pytz in /usr/local/lib/python3.6/dist-packages (from matplotlib->py-wake==1.0) (2018.7)\n",
            "Requirement already satisfied: cycler>=0.10 in /usr/local/lib/python3.6/dist-packages (from matplotlib->py-wake==1.0) (0.10.0)\n",
            "Requirement already satisfied: pluggy>=0.7 in /usr/local/lib/python3.6/dist-packages (from pytest->py-wake==1.0) (0.8.0)\n",
            "Requirement already satisfied: atomicwrites>=1.0 in /usr/local/lib/python3.6/dist-packages (from pytest->py-wake==1.0) (1.2.1)\n",
            "Requirement already satisfied: attrs>=17.4.0 in /usr/local/lib/python3.6/dist-packages (from pytest->py-wake==1.0) (18.2.0)\n",
            "Requirement already satisfied: py>=1.5.0 in /usr/local/lib/python3.6/dist-packages (from pytest->py-wake==1.0) (1.7.0)\n",
            "Requirement already satisfied: more-itertools>=4.0.0 in /usr/local/lib/python3.6/dist-packages (from pytest->py-wake==1.0) (4.3.0)\n",
            "Requirement already satisfied: setuptools in /usr/local/lib/python3.6/dist-packages (from pytest->py-wake==1.0) (40.6.3)\n",
            "Collecting coverage>=4.4 (from pytest-cov->py-wake==1.0)\n",
            "\u001b[?25l  Downloading https://files.pythonhosted.org/packages/a4/5c/b3eac6aa7eb4af83c8580d9c1578343910bdcc59e64e3565402f9a527f9c/coverage-4.5.2-cp36-cp36m-manylinux1_x86_64.whl (205kB)\n",
            "\u001b[K    100% |████████████████████████████████| 215kB 28.3MB/s \n",
            "\u001b[?25hRequirement already satisfied: babel!=2.0,>=1.3 in /usr/local/lib/python3.6/dist-packages (from sphinx->py-wake==1.0) (2.6.0)\n",
            "Requirement already satisfied: imagesize in /usr/local/lib/python3.6/dist-packages (from sphinx->py-wake==1.0) (1.1.0)\n",
            "Requirement already satisfied: Pygments>=2.0 in /usr/local/lib/python3.6/dist-packages (from sphinx->py-wake==1.0) (2.1.3)\n",
            "Requirement already satisfied: docutils>=0.11 in /usr/local/lib/python3.6/dist-packages (from sphinx->py-wake==1.0) (0.14)\n",
            "Requirement already satisfied: sphinxcontrib-websupport in /usr/local/lib/python3.6/dist-packages (from sphinx->py-wake==1.0) (1.1.0)\n",
            "Requirement already satisfied: Jinja2>=2.3 in /usr/local/lib/python3.6/dist-packages (from sphinx->py-wake==1.0) (2.10)\n",
            "Requirement already satisfied: packaging in /usr/local/lib/python3.6/dist-packages (from sphinx->py-wake==1.0) (18.0)\n",
            "Requirement already satisfied: alabaster<0.8,>=0.7 in /usr/local/lib/python3.6/dist-packages (from sphinx->py-wake==1.0) (0.7.12)\n",
            "Requirement already satisfied: snowballstemmer>=1.1 in /usr/local/lib/python3.6/dist-packages (from sphinx->py-wake==1.0) (1.2.1)\n",
            "Requirement already satisfied: requests>=2.0.0 in /usr/local/lib/python3.6/dist-packages (from sphinx->py-wake==1.0) (2.18.4)\n",
            "Requirement already satisfied: MarkupSafe>=0.23 in /usr/local/lib/python3.6/dist-packages (from Jinja2>=2.3->sphinx->py-wake==1.0) (1.1.0)\n",
            "Requirement already satisfied: idna<2.7,>=2.5 in /usr/local/lib/python3.6/dist-packages (from requests>=2.0.0->sphinx->py-wake==1.0) (2.6)\n",
            "Requirement already satisfied: urllib3<1.23,>=1.21.1 in /usr/local/lib/python3.6/dist-packages (from requests>=2.0.0->sphinx->py-wake==1.0) (1.22)\n",
            "Requirement already satisfied: certifi>=2017.4.17 in /usr/local/lib/python3.6/dist-packages (from requests>=2.0.0->sphinx->py-wake==1.0) (2018.11.29)\n",
            "Requirement already satisfied: chardet<3.1.0,>=3.0.2 in /usr/local/lib/python3.6/dist-packages (from requests>=2.0.0->sphinx->py-wake==1.0) (3.0.4)\n",
            "\u001b[31mdatascience 0.10.6 has requirement coverage==3.7.1, but you'll have coverage 4.5.2 which is incompatible.\u001b[0m\n",
            "\u001b[31mcoveralls 0.5 has requirement coverage<3.999,>=3.6, but you'll have coverage 4.5.2 which is incompatible.\u001b[0m\n",
            "Installing collected packages: coverage, pytest-cov, sphinx-rtd-theme, py-wake\n",
            "  Found existing installation: coverage 3.7.1\n",
            "    Uninstalling coverage-3.7.1:\n",
            "      Successfully uninstalled coverage-3.7.1\n",
            "  Running setup.py develop for py-wake\n",
            "Successfully installed coverage-4.5.2 py-wake pytest-cov-2.6.0 sphinx-rtd-theme-0.4.2\n"
          ],
          "name": "stdout"
        }
      ]
    },
    {
      "metadata": {
        "id": "1c2eHeoTuiKx",
        "colab_type": "code",
        "outputId": "f04ba421-6a84-41f6-895d-42b26b5b03d0",
        "colab": {
          "base_uri": "https://localhost:8080/",
          "height": 364
        }
      },
      "cell_type": "code",
      "source": [
        "import numpy as np\n",
        "from py_wake.aep._aep import AEP\n",
        "from py_wake.examples.data.hornsrev1 import wt_x, wt_y, HornsrevV80,\\\n",
        "    HornsrevSite\n",
        "from py_wake.wake_models.noj import NOJ\n",
        "from py_wake.wake_models.fuga import FugaWakeModel\n",
        "\n",
        "\n",
        "import matplotlib.pyplot as plt\n",
        "wt_x = np.array(wt_x)[[0,1,2,8,9,10,16,17,18]]\n",
        "wt_y = np.array(wt_y)[[0,1,2,8,9,10,16,17,18]]\n",
        "\n",
        "from py_wake.tests.test_files import tfp\n",
        "path = tfp + 'fuga/2MW/Z0=0.03000000Zi=00401Zeta0=0.00E+0/'\n",
        "wake_model = FugaWakeModel(path, windTurbines)\n",
        "\n",
        "wake_model=\n",
        "\n",
        "wt = HornsrevV80()\n",
        "aep = AEP(HornsrevSite(), wt, NOJ(wt))\n",
        "\n",
        "print('AEP [GWh]', aep.calculate_AEP(wt_x, wt_y)[0].sum())\n",
        "x_j = np.linspace(min(wt_x)-1000, max(wt_x)+1000, 500)\n",
        "y_j = np.linspace(min(wt_y)-1000, max(wt_y)+1000, 300)\n",
        "\n",
        "X, Y, Z = aep.wake_map(x_j, y_j, 70, wt_x, wt_y, wd=[0], ws=[9])\n",
        "c = plt.contourf(X, Y, Z, np.arange(2, 9.1, .01), cmap='Blues_r')\n",
        "plt.colorbar(c, label='wind speed [m/s]')\n",
        "\n",
        "plt.plot(wt_x, wt_y, '.k')\n",
        "for i, (x_, y_) in enumerate(zip(wt_x, wt_y)):\n",
        "    plt.annotate(i, (x_, y_))\n",
        "plt.axis('equal')\n",
        "plt.show()"
      ],
      "execution_count": 0,
      "outputs": [
        {
          "output_type": "stream",
          "text": [
            "AEP [GWh] 9.097729056246472\n"
          ],
          "name": "stdout"
        },
        {
          "output_type": "display_data",
          "data": {
            "image/png": "[encoded data removed]",
            "text/plain": [
              "<matplotlib.figure.Figure at 0x7f2f21a485f8>"
            ]
          },
          "metadata": {
            "tags": []
          }
        }
      ]
    },
    {
      "metadata": {
        "id": "_ny6Z0_IutTW",
        "colab_type": "code",
        "colab": {}
      },
      "cell_type": "code",
      "source": [
        ""
      ],
      "execution_count": 0,
      "outputs": []
    },
    {
      "metadata": {
        "id": "DUapi-6Ru1bP",
        "colab_type": "code",
        "outputId": "942d09d7-098e-4f49-d7ab-47b2aebc4b83",
        "colab": {
          "base_uri": "https://localhost:8080/",
          "height": 34
        }
      },
      "cell_type": "code",
      "source": [
        "\n"
      ],
      "execution_count": 0,
      "outputs": [
        {
          "output_type": "execute_result",
          "data": {
            "text/plain": [
              "py_wake.aep._aep.AEP"
            ]
          },
          "metadata": {
            "tags": []
          },
          "execution_count": 29
        }
      ]
    }
  ]
}